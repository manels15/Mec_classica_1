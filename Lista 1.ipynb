{
 "cells": [
  {
   "cell_type": "markdown",
   "id": "ffa8ab56-e25e-4c63-9e60-4b740e3c88da",
   "metadata": {},
   "source": [
    "## Lista 1- Problemas numéricos - Unidade 1 \n",
    "\n",
    "FIS 0615 - Mecânica Clássica 1\n",
    "\n",
    "Professor: Doutor Edmilson Félix da Silva\n",
    "\n",
    "Aluno: José Emanuel Vasconcelos Oliveira"
   ]
  },
  {
   "cell_type": "markdown",
   "id": "e5346e15-be1f-4d81-80e6-493519affe45",
   "metadata": {},
   "source": []
  },
  {
   "cell_type": "markdown",
   "id": "161c0d1a-5b8b-4b94-98ed-79c891e52bff",
   "metadata": {},
   "source": []
  },
  {
   "cell_type": "markdown",
   "id": "3e9a440e-a981-4aa6-9812-80fed0ce1c90",
   "metadata": {},
   "source": []
  },
  {
   "cell_type": "markdown",
   "id": "e1db86d6-8bb0-4c7f-9b7e-fc74d1107396",
   "metadata": {},
   "source": []
  },
  {
   "cell_type": "markdown",
   "id": "467ecf06-1c42-49e5-9624-def6e2669542",
   "metadata": {},
   "source": []
  },
  {
   "cell_type": "markdown",
   "id": "dd02f650-f512-491b-9b76-1c23c0cc9b06",
   "metadata": {},
   "source": []
  },
  {
   "cell_type": "markdown",
   "id": "46da530c-cdd9-4a4f-b2bd-ec9d9278fe39",
   "metadata": {},
   "source": []
  }
 ],
 "metadata": {
  "kernelspec": {
   "display_name": "Python [conda env:base] *",
   "language": "python",
   "name": "conda-base-py"
  },
  "language_info": {
   "codemirror_mode": {
    "name": "ipython",
    "version": 3
   },
   "file_extension": ".py",
   "mimetype": "text/x-python",
   "name": "python",
   "nbconvert_exporter": "python",
   "pygments_lexer": "ipython3",
   "version": "3.12.7"
  }
 },
 "nbformat": 4,
 "nbformat_minor": 5
}
